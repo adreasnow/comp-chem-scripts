{
 "cells": [
  {
   "cell_type": "code",
   "execution_count": 196,
   "id": "1e2fa3c2-c7d2-4905-bf7d-e8deb25cf48d",
   "metadata": {
    "tags": []
   },
   "outputs": [
    {
     "data": {
      "application/vnd.jupyter.widget-view+json": {
       "model_id": "ad31577b07eb4b11926fecbc06cc9e5e",
       "version_major": 2,
       "version_minor": 0
      },
      "text/plain": [
       "FileChooser(path='/Volumes/MonARCH', filename='', title='HTML(value='', layout=Layout(display='none'))', show_…"
      ]
     },
     "metadata": {},
     "output_type": "display_data"
    },
    {
     "data": {
      "application/vnd.jupyter.widget-view+json": {
       "model_id": "3fdd168366ee4ccd8c61fccfadc257fc",
       "version_major": 2,
       "version_minor": 0
      },
      "text/plain": [
       "interactive(children=(FloatSlider(value=0.5, description='Charge point size', max=10.0, min=0.01), Button(desc…"
      ]
     },
     "metadata": {},
     "output_type": "display_data"
    },
    {
     "data": {
      "text/plain": [
       "<function __main__.plotChargeField(pointSize)>"
      ]
     },
     "metadata": {},
     "output_type": "display_data"
    }
   ],
   "source": [
    "import psi4\n",
    "import numpy as np\n",
    "\n",
    "import matplotlib.pyplot as plt\n",
    "import numpy as np\n",
    "from mpl_toolkits.mplot3d import Axes3D\n",
    "%matplotlib widget\n",
    "\n",
    "import sys\n",
    "from ipywidgets import interact, interactive, fixed, interact_manual\n",
    "from ipyfilechooser import FileChooser\n",
    "import ipywidgets as widgets\n",
    "\n",
    "fc = FileChooser('/Volumes/MonARCH/')\n",
    "fc.filter_pattern = '*.npy'\n",
    "display(fc)\n",
    "\n",
    "def plotChargeField(pointSize):\n",
    "#     mol = psi4.geometry(\"\"\"\n",
    "#     0 1\n",
    "#     H     25.904390   27.848220   23.245700\n",
    "#     C     26.470510   27.902150   24.163850\n",
    "#     C     25.927170   28.660700   25.265740\n",
    "#     C     27.751410   27.354020   24.324460\n",
    "#     H     24.937600   29.074340   25.139050\n",
    "#     C     26.729710   28.931990   26.356300\n",
    "#     H     28.185700   26.797340   23.507210\n",
    "#     C     28.398860   27.482910   25.547670\n",
    "#     H     26.198040   29.520580   27.089300\n",
    "#     C     27.966830   28.300910   26.608940\n",
    "#     H     29.350290   26.976460   25.616150\n",
    "#     C     28.440660   28.528530   27.939860\n",
    "#     C     29.648020   27.796620   28.338100\n",
    "#     H     27.846560   29.178710   28.564930\n",
    "#     C     30.217500   27.842830   29.667880\n",
    "#     H     30.205080   27.219820   27.614650\n",
    "#     C     29.664900   28.783210   30.746270\n",
    "#     O     31.020870   27.028720   30.019350\n",
    "#     C     28.549890   28.376020   31.525920\n",
    "#     C     30.174050   30.078760   30.911010\n",
    "#     H     28.085440   27.402110   31.479150\n",
    "#     C     27.834070   29.321180   32.320740\n",
    "#     N     31.328500   30.526690   30.384250\n",
    "#     C     29.488230   30.982450   31.737720\n",
    "#     H     26.890930   29.057520   32.776110\n",
    "#     C     28.284440   30.641330   32.415620\n",
    "#     H     31.367190   31.477100   30.044640\n",
    "#     H     31.609700   30.069330   29.528770\n",
    "#     H     29.800690   31.993900   31.951620\n",
    "#     H     27.577720   31.313980   32.878760\n",
    "#     nocom\n",
    "#     noreorient\n",
    "#     symmetry c1\n",
    "#     \"\"\")\n",
    "    chargeCloud = np.load(fc.selected)\n",
    "    chargesImport, culledPoints_XImport, culledPoints_YImport, culledPoints_ZImport = np.split(chargeCloud, 4, 1) \n",
    "\n",
    "    atomDict = {'H': [], 'N': [], 'O': [], 'S': [], 'C': [],}\n",
    "\n",
    "    # for atomNum in range(mol.natom()):\n",
    "    #     # X, Y, Z = [mol.x(atomNum), mol.y(atomNum), mol.z(atomNum)]\n",
    "    #     X, Y, Z = np.multiply([mol.x(atomNum), mol.y(atomNum), mol.z(atomNum)], 0.529177)\n",
    "    #     z = mol.flabel(atomNum)\n",
    "    #     atomDict[z] += [[X, Y, Z]]\n",
    "\n",
    "    if len(atomDict['N']) >= 1:\n",
    "        Xn, Yn, Zn = np.split(np.array(atomDict['N']), 3, 1)\n",
    "    if len(atomDict['O']) >= 1:\n",
    "        Xo, Yo, Zo = np.split(np.array(atomDict['O']), 3, 1)\n",
    "    if len(atomDict['S']) >= 1:\n",
    "        Xs, Ys, Zs = np.split(np.array(atomDict['S']), 3, 1)\n",
    "    if len(atomDict['C']) >= 1:\n",
    "        Xc, Yc, Zc = np.split(np.array(atomDict['C']), 3, 1)\n",
    "    if len(atomDict['H']) >= 1:\n",
    "        Xh, Yh, Zh = np.split(np.array(atomDict['H']), 3, 1)\n",
    "\n",
    "    fig = plt.figure(figsize=(10, 10))\n",
    "    ax = fig.add_subplot(111, projection='3d')\n",
    "    \n",
    "    cloud = ax.scatter(culledPoints_XImport, culledPoints_YImport, culledPoints_ZImport, s=pointSize, c=chargesImport, cmap='jet')\n",
    "\n",
    "    # ax.scatter(culledPoints_X, culledPoints_Y, culledPoints_Z)\n",
    "    if len(atomDict['N']) >= 1:\n",
    "        ax.scatter(Xn, Yn, Zn, c='blue', s=150)\n",
    "    if len(atomDict['O']) >= 1:\n",
    "        ax.scatter(Xo, Yo, Zo, c='red', s=150)\n",
    "    if len(atomDict['C']) >= 1:\n",
    "        ax.scatter(Xc, Yc, Zc, c='black', s=150)\n",
    "    if len(atomDict['S']) >= 1:\n",
    "        ax.scatter(Xs, Ys, Zs, c='yellow', s=150)\n",
    "    if len(atomDict['H']) >= 1:\n",
    "        ax.scatter(Xh, Yh, Zh, c='grey', s=150)\n",
    "        \n",
    "    fig.colorbar(cloud, shrink=0.5, aspect=20)\n",
    "\n",
    "    plt.show(fig)\n",
    "    \n",
    "    # plt.clf()\n",
    "    # plt.hist(chargesImport, 100)\n",
    "    # plt.show()\n",
    "    print(np.min(chargesImport), np.max(chargesImport))\n",
    "    print(np.sum(chargesImport), np.mean(chargesImport))\n",
    "\n",
    "\n",
    "im = interact_manual(plotChargeField, \n",
    "                     pointSize=widgets.FloatSlider(value=0.5, min=0.01, max=10, description=\"Charge point size\"))\n",
    "im.widget.children[1].description = 'Plot the chargefield'\n",
    "display(im)"
   ]
  },
  {
   "cell_type": "code",
   "execution_count": 181,
   "id": "76a4bb7a-6076-48af-b162-08e3ee7736d6",
   "metadata": {},
   "outputs": [
    {
     "name": "stdout",
     "output_type": "stream",
     "text": [
      "[-1  0  0  0]\n"
     ]
    },
    {
     "data": {
      "text/plain": [
       "0.5"
      ]
     },
     "execution_count": 181,
     "metadata": {},
     "output_type": "execute_result"
    }
   ],
   "source": [
    "a = np.array([3, 2, 3, 4])\n",
    "b = np.array([4, 2, 3, 4])\n",
    "\n",
    "print(np.subtract(a, b))\n",
    "\n",
    "def rmsd(a, b):\n",
    "    return(np.sqrt(\n",
    "        np.divide(\n",
    "            np.sum(\n",
    "                np.square(np.subtract(b, a))\n",
    "            ),\n",
    "            len(a)\n",
    "        )\n",
    "    ))\n",
    "\n",
    "rmsd(a, b)"
   ]
  }
 ],
 "metadata": {
  "kernelspec": {
   "display_name": "Python 3 (ipykernel)",
   "language": "python",
   "name": "python3"
  },
  "language_info": {
   "codemirror_mode": {
    "name": "ipython",
    "version": 3
   },
   "file_extension": ".py",
   "mimetype": "text/x-python",
   "name": "python",
   "nbconvert_exporter": "python",
   "pygments_lexer": "ipython3",
   "version": "3.9.10"
  }
 },
 "nbformat": 4,
 "nbformat_minor": 5
}
